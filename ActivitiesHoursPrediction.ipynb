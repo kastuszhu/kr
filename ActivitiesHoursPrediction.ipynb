{
 "cells": [
  {
   "cell_type": "code",
   "execution_count": null,
   "metadata": {},
   "outputs": [],
   "source": [
    "import pandas as pd\n",
    "import numpy as np\n",
    "import matplotlib as plt\n",
    "import gensim\n",
    "import re, string\n",
    "from scipy.sparse import csr_matrix, hstack\n",
    "import sklearn\n",
    "from sklearn import feature_extraction\n",
    "from sklearn.feature_extraction.text import CountVectorizer, TfidfVectorizer\n",
    "from sklearn.feature_extraction import stop_words\n",
    "\n",
    "%matplotlib inline"
   ]
  },
  {
   "cell_type": "code",
   "execution_count": null,
   "metadata": {},
   "outputs": [],
   "source": [
    "hours = pd.read_excel('ActivitiesGangHours.xlsx', index = 'Activity ID')\n",
    "hours.drop('Activities Description', axis=1, inplace=True) #TODO: revise!!!"
   ]
  },
  {
   "cell_type": "code",
   "execution_count": null,
   "metadata": {},
   "outputs": [],
   "source": [
    "df = pd.read_excel('ActivityConstrains.xlsx', index = 'Activity ID')\n",
    "df.drop(['Name','Unnamed: 7'], axis=1,inplace=True)\n",
    "df = df.dropna()###disabel if instructions how to handle provided\n",
    "df[\"Activity ID\"]=df[\"Activity ID\"].astype(int)"
   ]
  },
  {
   "cell_type": "code",
   "execution_count": null,
   "metadata": {},
   "outputs": [],
   "source": [
    "df.columns = ['ID','Description','Element','Extractor','Operation','Value','Unit']"
   ]
  },
  {
   "cell_type": "code",
   "execution_count": null,
   "metadata": {},
   "outputs": [],
   "source": [
    "df.loc[df.Unit=='mm','Value']/=1000\n",
    "df.loc[df.Unit=='mm','Unit']='m'"
   ]
  },
  {
   "cell_type": "code",
   "execution_count": null,
   "metadata": {},
   "outputs": [],
   "source": [
    "df['ElExtOp']=df.Element +  df.Extractor + df.Operation\n",
    "df.drop(['Element','Extractor', 'Operation'],axis=1,inplace=True)"
   ]
  },
  {
   "cell_type": "code",
   "execution_count": null,
   "metadata": {},
   "outputs": [],
   "source": []
  },
  {
   "cell_type": "code",
   "execution_count": null,
   "metadata": {
    "scrolled": true
   },
   "outputs": [],
   "source": [
    "a = df[['Activity ID','Unit']].groupby(by='Activity ID').count().reset_index()\n",
    "df[df['Activity ID'].isin(a[a.Unit==6]['Activity ID'])]"
   ]
  },
  {
   "cell_type": "code",
   "execution_count": null,
   "metadata": {},
   "outputs": [],
   "source": [
    "sp = df.pivot(columns='ElExtOp', values='Value')\n",
    "sp.fillna(0.0,inplace=True)"
   ]
  },
  {
   "cell_type": "code",
   "execution_count": null,
   "metadata": {},
   "outputs": [],
   "source": [
    "vectorizer = CountVectorizer(min_df=0, token_pattern=r\"\\b\\w+\\b\")\n",
    "vectorizer.fit(df.Unit.unique())\n",
    "uns = vectorizer.transform(df.Unit)\n",
    "\n",
    "index = [i for i in range(1, uns.shape[0]+1)]\n",
    "units = pd.SparseDataFrame(uns, index=index, columns=vectorizer.get_feature_names())\n",
    "units.fillna(0, inplace=True)"
   ]
  },
  {
   "cell_type": "code",
   "execution_count": null,
   "metadata": {},
   "outputs": [],
   "source": [
    "vectorizer = CountVectorizer()\n",
    "els = vectorizer.fit_transform(df['Element (tag)'])\n",
    "\n",
    "elements = pd.SparseDataFrame(els, index=index, columns=vectorizer.get_feature_names())\n",
    "elements.fillna(0, inplace= True)"
   ]
  },
  {
   "cell_type": "code",
   "execution_count": null,
   "metadata": {
    "collapsed": true
   },
   "outputs": [],
   "source": [
    "df['Activities Description'] = df['Activities Description'].apply(lambda x: x.rsplit(',',1)[0])"
   ]
  },
  {
   "cell_type": "code",
   "execution_count": null,
   "metadata": {},
   "outputs": [],
   "source": [
    "df['semicolon']= df['Activities Description'].apply(lambda x: x.count(';'))\n",
    "df['commas']= df['Activities Description'].apply(lambda x: x.count(','))"
   ]
  },
  {
   "cell_type": "code",
   "execution_count": null,
   "metadata": {},
   "outputs": [],
   "source": []
  },
  {
   "cell_type": "code",
   "execution_count": null,
   "metadata": {},
   "outputs": [],
   "source": [
    "number_list = [\"zero\",\"one\",\"two\",\"three\",\"four\",\"five\",\"six\",\"seven\",\" eight\",\"nine\"]\n",
    "plural_list = ['hasdkjha', 'single','double','tripple']\n",
    "def extract_numbers(s):  \n",
    "    for i in range(len(number_list)):\n",
    "        if (number_list[i] in s) or ((i<len(plural_list)) and  (plural_list[i] in s)):\n",
    "            return i        \n",
    "    return 1       \n",
    "\n"
   ]
  },
  {
   "cell_type": "code",
   "execution_count": null,
   "metadata": {},
   "outputs": [],
   "source": [
    "#df['txt_nmbr'] = df['Activities Description'].apply(extract_numbers)\n",
    "df['Description'].apply(extract_numbers).unique()"
   ]
  },
  {
   "cell_type": "code",
   "execution_count": null,
   "metadata": {},
   "outputs": [],
   "source": [
    "df.apply(lambda x: x['Description'].replace(x.Unit,'').replace(str(x.Value),''), axis =1)"
   ]
  },
  {
   "cell_type": "code",
   "execution_count": null,
   "metadata": {},
   "outputs": [],
   "source": [
    "df.head()"
   ]
  },
  {
   "cell_type": "code",
   "execution_count": null,
   "metadata": {},
   "outputs": [],
   "source": [
    "df['Activities Description'].apply(lambda x: regex.sub(\" \",x))"
   ]
  },
  {
   "cell_type": "code",
   "execution_count": null,
   "metadata": {},
   "outputs": [],
   "source": [
    "tfidf = TfidfVectorizer()\n",
    "descr =tfidf.fit_transform(df['Activities Description'])"
   ]
  },
  {
   "cell_type": "code",
   "execution_count": null,
   "metadata": {},
   "outputs": [],
   "source": [
    "print(sp.shape, elements.shape, units.shape, descr.shape)"
   ]
  },
  {
   "cell_type": "code",
   "execution_count": null,
   "metadata": {
    "collapsed": true
   },
   "outputs": [],
   "source": []
  },
  {
   "cell_type": "code",
   "execution_count": null,
   "metadata": {},
   "outputs": [],
   "source": []
  },
  {
   "cell_type": "code",
   "execution_count": null,
   "metadata": {
    "collapsed": true
   },
   "outputs": [],
   "source": []
  },
  {
   "cell_type": "code",
   "execution_count": null,
   "metadata": {},
   "outputs": [],
   "source": [
    "j = df.merge(hours, how='left', left_on='Activity ID', right_on='ID').drop(['Activities Description_y','ID'],axis=1)"
   ]
  },
  {
   "cell_type": "code",
   "execution_count": null,
   "metadata": {},
   "outputs": [],
   "source": [
    "j[(j['Element (tag)']=='wall') & (j['Extractor']=='radius')].plot.scatter('Value','Gang Hours')"
   ]
  },
  {
   "cell_type": "code",
   "execution_count": null,
   "metadata": {},
   "outputs": [],
   "source": [
    "colors= {'m':'Blue','m':'Red'}"
   ]
  },
  {
   "cell_type": "code",
   "execution_count": null,
   "metadata": {
    "collapsed": true
   },
   "outputs": [],
   "source": []
  },
  {
   "cell_type": "code",
   "execution_count": null,
   "metadata": {
    "collapsed": true
   },
   "outputs": [],
   "source": []
  },
  {
   "cell_type": "code",
   "execution_count": null,
   "metadata": {
    "collapsed": true
   },
   "outputs": [],
   "source": []
  },
  {
   "cell_type": "code",
   "execution_count": null,
   "metadata": {
    "collapsed": true
   },
   "outputs": [],
   "source": []
  },
  {
   "cell_type": "code",
   "execution_count": null,
   "metadata": {},
   "outputs": [],
   "source": [
    "desc = df['Activities Description']"
   ]
  },
  {
   "cell_type": "code",
   "execution_count": null,
   "metadata": {},
   "outputs": [],
   "source": [
    "regex = re.compile('[' +re.escape(string.punctuation) + '\\d\\.\\\\r\\\\t\\\\n]')\n",
    "desc.apply(lambda x: x.rsplit('\\n')[0]).apply(lambda x: x.rsplit(';')[0]).unique()"
   ]
  },
  {
   "cell_type": "code",
   "execution_count": null,
   "metadata": {},
   "outputs": [],
   "source": [
    "descr = desc.apply(lambda x: regex.sub(\" \",x)).unique()"
   ]
  },
  {
   "cell_type": "code",
   "execution_count": null,
   "metadata": {},
   "outputs": [],
   "source": [
    "len(stopwords)"
   ]
  },
  {
   "cell_type": "code",
   "execution_count": null,
   "metadata": {},
   "outputs": [],
   "source": [
    "stopwords = df.Extractor.unique().tolist()\n",
    "stopwords += df['Element (tag)'].unique().tolist()\n",
    "stopwords += df.Unit.unique().tolist()\n",
    "stopwords += stop_words.ENGLISH_STOP_WORDS\n",
    "stopwords += ['exceeding','thickness', 'size','like']"
   ]
  },
  {
   "cell_type": "code",
   "execution_count": null,
   "metadata": {},
   "outputs": [],
   "source": [
    "vectorizer = CountVectorizer(analyzer='word',stop_words=frozenset(stopwords))\n",
    "vectorizer.fit(descr)"
   ]
  },
  {
   "cell_type": "code",
   "execution_count": null,
   "metadata": {},
   "outputs": [],
   "source": [
    "vectorizer.transform(desc)"
   ]
  },
  {
   "cell_type": "code",
   "execution_count": null,
   "metadata": {
    "collapsed": true
   },
   "outputs": [],
   "source": []
  },
  {
   "cell_type": "code",
   "execution_count": null,
   "metadata": {
    "collapsed": true
   },
   "outputs": [],
   "source": []
  },
  {
   "cell_type": "code",
   "execution_count": null,
   "metadata": {},
   "outputs": [],
   "source": [
    "dic = op_cat_df.groupby(by=['Element','Extractor','Value'])['Value']\n",
    "dic"
   ]
  },
  {
   "cell_type": "code",
   "execution_count": null,
   "metadata": {},
   "outputs": [],
   "source": [
    "op_cat_df[['Element','Extractor','Value']].groupby(by=['Element','Extractor'])['Value'].transform(lambda x: pd.factorize(x, sort=True)[0])\n"
   ]
  },
  {
   "cell_type": "code",
   "execution_count": null,
   "metadata": {},
   "outputs": [],
   "source": [
    "op_cat_df.opcat.unique().shape"
   ]
  },
  {
   "cell_type": "code",
   "execution_count": null,
   "metadata": {},
   "outputs": [],
   "source": [
    "op_cat_df['opcat']=op_cat_df.Element + op_cat_df.Extractor + op_cat_df.Value.astype(str)"
   ]
  },
  {
   "cell_type": "code",
   "execution_count": null,
   "metadata": {},
   "outputs": [],
   "source": [
    "op_cat_df = df[df.Operation!='=']\n",
    "op_cat = op_cat_df.Operation + op_cat_df.Value.astype(str)"
   ]
  },
  {
   "cell_type": "code",
   "execution_count": null,
   "metadata": {},
   "outputs": [],
   "source": [
    "op_cat_df[['Extractor','Value']].groupby(by=['Value']).groups"
   ]
  }
 ],
 "metadata": {
  "kernelspec": {
   "display_name": "Python 3",
   "language": "python",
   "name": "python3"
  },
  "language_info": {
   "codemirror_mode": {
    "name": "ipython",
    "version": 3
   },
   "file_extension": ".py",
   "mimetype": "text/x-python",
   "name": "python",
   "nbconvert_exporter": "python",
   "pygments_lexer": "ipython3",
   "version": "3.6.1"
  }
 },
 "nbformat": 4,
 "nbformat_minor": 2
}
