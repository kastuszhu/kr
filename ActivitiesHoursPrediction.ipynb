{
 "cells": [
  {
   "cell_type": "code",
   "execution_count": null,
   "metadata": {},
   "outputs": [],
   "source": [
    "import pandas as pd\n",
    "import numpy as np\n",
    "import matplotlib as plt\n",
    "import gensim\n",
    "import re, string\n",
    "from scipy.sparse import csr_matrix, hstack\n",
    "import sklearn\n",
    "from sklearn import feature_extraction\n",
    "from sklearn.feature_extraction.text import CountVectorizer, TfidfVectorizer\n",
    "from sklearn.feature_extraction import stop_words\n",
    "from sklearn.preprocessing import PolynomialFeatures\n",
    "\n",
    "%matplotlib inline"
   ]
  },
  {
   "cell_type": "code",
   "execution_count": null,
   "metadata": {
    "collapsed": true
   },
   "outputs": [],
   "source": [
    "hours = pd.read_excel('ActivitiesGangHours.xlsx', index = 'Activity ID')\n",
    "hours.drop('Activities Description', axis=1, inplace=True) #TODO: revise!!!"
   ]
  },
  {
   "cell_type": "code",
   "execution_count": null,
   "metadata": {
    "collapsed": true
   },
   "outputs": [],
   "source": [
    "df = pd.read_excel('ActivityConstrains.xlsx', index = 'Activity ID')\n",
    "df.drop(['Name','Unnamed: 7'], axis=1,inplace=True)\n",
    "df = df.dropna()###disabel if instructions how to handle provided\n",
    "df[\"Activity ID\"]=df[\"Activity ID\"].astype(int)"
   ]
  },
  {
   "cell_type": "code",
   "execution_count": null,
   "metadata": {
    "collapsed": true
   },
   "outputs": [],
   "source": [
    "df.columns = ['ID','Description','Element','Extractor','Operation','Value','Unit']"
   ]
  },
  {
   "cell_type": "code",
   "execution_count": null,
   "metadata": {
    "collapsed": true
   },
   "outputs": [],
   "source": [
    "df.loc[df.Unit=='mm','Value']/=1000\n",
    "df.loc[df.Unit=='mm','Unit']='m'"
   ]
  },
  {
   "cell_type": "markdown",
   "metadata": {},
   "source": [
    "### Values and categories processing"
   ]
  },
  {
   "cell_type": "code",
   "execution_count": null,
   "metadata": {},
   "outputs": [],
   "source": [
    "cat_df = df[df.Operation!='=']\n",
    "cat_df['cat_value'] = cat_df[['Element','Extractor','Value']].groupby(by=['Element','Extractor'])['Value'].transform(lambda x: pd.factorize(x, sort=True)[0])\n",
    "cat_df['cat_value']+=1 ##To leave zeros for non-interval values\n",
    "cat_df.loc[cat_df['Operation'].isin(['>','>=','=>']),'cat_value']+=1"
   ]
  },
  {
   "cell_type": "code",
   "execution_count": null,
   "metadata": {
    "collapsed": true
   },
   "outputs": [],
   "source": [
    "df['cat_value']=0\n",
    "df.loc[cat_df.index,'cat_value']=cat_df['cat_value']\n",
    "df.loc[cat_df.index,'Value']=0\n",
    "df.Value +=df.cat_value"
   ]
  },
  {
   "cell_type": "code",
   "execution_count": null,
   "metadata": {
    "collapsed": true
   },
   "outputs": [],
   "source": [
    "df['Op']=0\n",
    "df.loc[df.Operation=='=','Op']=1\n",
    "df['ElExtOp']=df.Element +  df.Extractor + df.Op.astype(str)"
   ]
  },
  {
   "cell_type": "code",
   "execution_count": null,
   "metadata": {
    "collapsed": true
   },
   "outputs": [],
   "source": [
    "sp = df.pivot(columns='ElExtOp', values='Value').fillna(0.0)\n",
    "sp['ID']=df.ID\n",
    "sp = sp.groupby(by='ID').sum().reset_index()"
   ]
  },
  {
   "cell_type": "markdown",
   "metadata": {},
   "source": [
    "### Description processing"
   ]
  },
  {
   "cell_type": "code",
   "execution_count": null,
   "metadata": {
    "collapsed": true
   },
   "outputs": [],
   "source": [
    "### extract numbers here"
   ]
  },
  {
   "cell_type": "code",
   "execution_count": null,
   "metadata": {
    "collapsed": true
   },
   "outputs": [],
   "source": [
    "regex = re.compile('[' +re.escape(string.punctuation) + '\\d\\.\\\\r\\\\t\\\\n]')\n",
    "descr = df['Description'].apply(lambda x: regex.sub(\" \",x))"
   ]
  },
  {
   "cell_type": "code",
   "execution_count": null,
   "metadata": {},
   "outputs": [],
   "source": [
    "stopwords = df.Extractor.unique().tolist()\n",
    "stopwords += df.Element.unique().tolist()\n",
    "stopwords += df.Unit.unique().tolist()\n",
    "stopwords += stop_words.ENGLISH_STOP_WORDS\n",
    "stopwords += ['exceeding','over','thickness', 'size','like','mm']\n",
    "len(stopwords)"
   ]
  },
  {
   "cell_type": "code",
   "execution_count": null,
   "metadata": {},
   "outputs": [],
   "source": [
    "vectorizer = TfidfVectorizer(analyzer='word',stop_words=frozenset(stopwords))\n",
    "vectorizer.fit(descr)"
   ]
  },
  {
   "cell_type": "code",
   "execution_count": null,
   "metadata": {
    "collapsed": true
   },
   "outputs": [],
   "source": [
    "descr_df = pd.DataFrame(vectorizer.transform(descr).todense(),columns=list(vectorizer.vocabulary_.keys())).fillna(0.0)"
   ]
  },
  {
   "cell_type": "code",
   "execution_count": null,
   "metadata": {
    "collapsed": true
   },
   "outputs": [],
   "source": [
    "descr_df.index = df.index\n",
    "descr_df['ID']=df.ID.astype(int)\n",
    "descr_df = descr_df.groupby(by='ID').mean().reset_index()"
   ]
  },
  {
   "cell_type": "markdown",
   "metadata": {},
   "source": [
    "### Merging and getting polynomial features"
   ]
  },
  {
   "cell_type": "code",
   "execution_count": null,
   "metadata": {
    "collapsed": true
   },
   "outputs": [],
   "source": [
    "ds = descr_df.merge(sp,on='ID',how='left')"
   ]
  },
  {
   "cell_type": "code",
   "execution_count": null,
   "metadata": {
    "collapsed": true
   },
   "outputs": [],
   "source": [
    "ds.to_csv('table.csv', index=False) ###To be able "
   ]
  },
  {
   "cell_type": "code",
   "execution_count": null,
   "metadata": {
    "collapsed": true
   },
   "outputs": [],
   "source": [
    "ds = pd.read_csv('table.csv')"
   ]
  },
  {
   "cell_type": "code",
   "execution_count": null,
   "metadata": {
    "collapsed": true
   },
   "outputs": [],
   "source": [
    "ds=pd.SparseDataFrame(ds)"
   ]
  },
  {
   "cell_type": "code",
   "execution_count": null,
   "metadata": {},
   "outputs": [],
   "source": [
    "pf = PolynomialFeatures(2,True,False)\n",
    "pf.fit(ds.drop('ID',axis=1))"
   ]
  },
  {
   "cell_type": "code",
   "execution_count": null,
   "metadata": {
    "collapsed": true
   },
   "outputs": [],
   "source": [
    "dsp = pf.transform(ds.drop('ID',axis=1))"
   ]
  },
  {
   "cell_type": "code",
   "execution_count": null,
   "metadata": {
    "collapsed": true
   },
   "outputs": [],
   "source": [
    "dsp_df = pd.SparseDataFrame(dsp,columns=pf.get_feature_names())"
   ]
  },
  {
   "cell_type": "code",
   "execution_count": null,
   "metadata": {
    "collapsed": true
   },
   "outputs": [],
   "source": [
    "dsp_df.shape"
   ]
  },
  {
   "cell_type": "code",
   "execution_count": null,
   "metadata": {},
   "outputs": [],
   "source": [
    "dsp_df.to_csv('poly.csv',index=False)"
   ]
  },
  {
   "cell_type": "code",
   "execution_count": null,
   "metadata": {
    "collapsed": true
   },
   "outputs": [],
   "source": []
  },
  {
   "cell_type": "code",
   "execution_count": null,
   "metadata": {
    "collapsed": true
   },
   "outputs": [],
   "source": [
    "vectorizer = CountVectorizer(min_df=0, token_pattern=r\"\\b\\w+\\b\")\n",
    "vectorizer.fit(df.Unit.unique())\n",
    "uns = vectorizer.transform(df.Unit)\n",
    "\n",
    "index = [i for i in range(1, uns.shape[0]+1)]\n",
    "units = pd.SparseDataFrame(uns, index=index, columns=vectorizer.get_feature_names())\n",
    "units.fillna(0, inplace=True)"
   ]
  }
 ],
 "metadata": {
  "kernelspec": {
   "display_name": "Python 3",
   "language": "python",
   "name": "python3"
  },
  "language_info": {
   "codemirror_mode": {
    "name": "ipython",
    "version": 3
   },
   "file_extension": ".py",
   "mimetype": "text/x-python",
   "name": "python",
   "nbconvert_exporter": "python",
   "pygments_lexer": "ipython3",
   "version": "3.6.1"
  }
 },
 "nbformat": 4,
 "nbformat_minor": 2
}
